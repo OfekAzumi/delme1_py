{
 "cells": [
  {
   "cell_type": "code",
   "execution_count": 1,
   "metadata": {},
   "outputs": [
    {
     "name": "stdout",
     "output_type": "stream",
     "text": [
      "{'fname': 'ofek', 'lname': 'azumi'}\n",
      "\u001b[32mThis text is green.\n",
      "still green?\n"
     ]
    }
   ],
   "source": [
    "import json\n",
    "import os\n",
    "\n",
    "def cls():\n",
    "    os.system('cls' if os.name=='nt' else 'clear')\n",
    "\n",
    "\n",
    "\n",
    "\n",
    "if __name__ == \"__main__\":\n",
    "    cls() #clears terminal\n",
    "    fName = input(\"Enter First Name: \")\n",
    "    lName = input(\"Enter Last Name: \")\n",
    "    lst= {\n",
    "        \"fname\" : fName,\n",
    "        \"lname\" : lName\n",
    "    }\n",
    "\n",
    "    # add dictionary to JSON file\n",
    "    with open('db.json', 'w') as json_file: \n",
    "        json.dump(lst, json_file)\n",
    "\n",
    "\n",
    "    # open the JSON file for reading\n",
    "    with open('db.json', 'r') as json_file:\n",
    "        data = json.load(json_file)\n",
    "    \n",
    "    print(data)\n",
    "    COLOR_RED = '\\x1b[31m'\n",
    "    COLOR_GREEN = '\\x1b[32m'\n",
    "    COLOR_YELLOW = '\\x1b[33m'\n",
    "    COLOR_RESET = '\\x1b[0m'  # Reset to default color\n",
    "\n",
    "    # Print colored text\n",
    "    # print(COLOR_RED + \"This text is red.\" + COLOR_RESET)\n",
    "    print(COLOR_GREEN + \"This text is green.\")\n",
    "    # print(COLOR_YELLOW + \"This text is yellow.\" + COLOR_RESET)\n",
    "    print(\"still green?\")\n",
    "    print(COLOR_RESET)\n"
   ]
  }
 ],
 "metadata": {
  "kernelspec": {
   "display_name": "Python 3",
   "language": "python",
   "name": "python3"
  },
  "language_info": {
   "codemirror_mode": {
    "name": "ipython",
    "version": 3
   },
   "file_extension": ".py",
   "mimetype": "text/x-python",
   "name": "python",
   "nbconvert_exporter": "python",
   "pygments_lexer": "ipython3",
   "version": "3.11.4"
  },
  "orig_nbformat": 4
 },
 "nbformat": 4,
 "nbformat_minor": 2
}
